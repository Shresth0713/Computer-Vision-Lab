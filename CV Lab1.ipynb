{
 "cells": [
  {
   "cell_type": "markdown",
   "id": "f1fc298e",
   "metadata": {},
   "source": [
    "# Lab 1"
   ]
  },
  {
   "cell_type": "markdown",
   "id": "81097c00",
   "metadata": {},
   "source": [
    "## Shresht Mishra"
   ]
  },
  {
   "cell_type": "markdown",
   "id": "c70f1e3c",
   "metadata": {},
   "source": [
    "## 211020450"
   ]
  },
  {
   "cell_type": "code",
   "execution_count": 1,
   "id": "d8881f5a",
   "metadata": {},
   "outputs": [],
   "source": [
    "import cv2\n",
    "import numpy as np"
   ]
  },
  {
   "cell_type": "markdown",
   "id": "5b13cae2",
   "metadata": {},
   "source": [
    "## A"
   ]
  },
  {
   "cell_type": "code",
   "execution_count": 2,
   "id": "0ec00202",
   "metadata": {},
   "outputs": [],
   "source": [
    "color_image = cv2.imread('Car63.jpeg')"
   ]
  },
  {
   "cell_type": "code",
   "execution_count": 3,
   "id": "4f90fc9c",
   "metadata": {},
   "outputs": [],
   "source": [
    "cv2.imshow('Color Image', color_image)\n",
    "cv2.waitKey(0)\n",
    "cv2.destroyAllWindows()"
   ]
  },
  {
   "cell_type": "code",
   "execution_count": 4,
   "id": "05044ba7",
   "metadata": {},
   "outputs": [],
   "source": [
    "gray_image = cv2.cvtColor(color_image, cv2.COLOR_BGR2GRAY)"
   ]
  },
  {
   "cell_type": "code",
   "execution_count": 5,
   "id": "47033377",
   "metadata": {},
   "outputs": [],
   "source": [
    "cv2.imshow('Gray Image', gray_image)\n",
    "cv2.waitKey(0)\n",
    "cv2.destroyAllWindows()"
   ]
  },
  {
   "cell_type": "code",
   "execution_count": 6,
   "id": "c37b3dfc",
   "metadata": {},
   "outputs": [
    {
     "data": {
      "text/plain": [
       "True"
      ]
     },
     "execution_count": 6,
     "metadata": {},
     "output_type": "execute_result"
    }
   ],
   "source": [
    "cv2.imwrite('grayscale.jpg', gray_image) "
   ]
  },
  {
   "cell_type": "code",
   "execution_count": 7,
   "id": "2cb9070b",
   "metadata": {},
   "outputs": [],
   "source": [
    "grayscale_image = cv2.imread('grayscale.jpg', cv2.IMREAD_GRAYSCALE) "
   ]
  },
  {
   "cell_type": "code",
   "execution_count": 8,
   "id": "3f4eecda",
   "metadata": {},
   "outputs": [],
   "source": [
    "cv2.imshow('Gray Image', grayscale_image )\n",
    "cv2.waitKey(0)\n",
    "cv2.destroyAllWindows()"
   ]
  },
  {
   "cell_type": "code",
   "execution_count": 9,
   "id": "9ab8ce15",
   "metadata": {},
   "outputs": [],
   "source": [
    "colorized_image = cv2.applyColorMap(grayscale_image, cv2.COLORMAP_JET)"
   ]
  },
  {
   "cell_type": "code",
   "execution_count": 10,
   "id": "dc4fd3f4",
   "metadata": {},
   "outputs": [],
   "source": [
    "cv2.imshow('Color Image', colorized_image)\n",
    "cv2.waitKey(0)\n",
    "cv2.destroyAllWindows()"
   ]
  },
  {
   "cell_type": "code",
   "execution_count": 11,
   "id": "c7fdf4fa",
   "metadata": {},
   "outputs": [],
   "source": [
    "blurred_image = cv2.GaussianBlur(color_image, (5, 5), 0)"
   ]
  },
  {
   "cell_type": "code",
   "execution_count": 12,
   "id": "d68acd73",
   "metadata": {},
   "outputs": [],
   "source": [
    "cv2.imshow('Noise Removed', blurred_image )\n",
    "cv2.waitKey(0)\n",
    "cv2.destroyAllWindows()"
   ]
  },
  {
   "cell_type": "markdown",
   "id": "76893177",
   "metadata": {},
   "source": [
    "## B"
   ]
  },
  {
   "cell_type": "code",
   "execution_count": 13,
   "id": "dff101ba",
   "metadata": {},
   "outputs": [],
   "source": [
    "blurred_image2 = cv2.medianBlur(color_image, 5)"
   ]
  },
  {
   "cell_type": "code",
   "execution_count": 14,
   "id": "e28eb722",
   "metadata": {},
   "outputs": [],
   "source": [
    "cv2.imshow('Noise Removed', blurred_image )\n",
    "cv2.waitKey(0)\n",
    "cv2.destroyAllWindows()"
   ]
  },
  {
   "cell_type": "code",
   "execution_count": 15,
   "id": "90d484b0",
   "metadata": {},
   "outputs": [],
   "source": [
    "enhanced_image = cv2.equalizeHist(gray_image)"
   ]
  },
  {
   "cell_type": "code",
   "execution_count": 16,
   "id": "462cd591",
   "metadata": {},
   "outputs": [],
   "source": [
    "cv2.imshow('Enhanced Image', enhanced_image)\n",
    "cv2.waitKey(0)\n",
    "cv2.destroyAllWindows()"
   ]
  },
  {
   "cell_type": "code",
   "execution_count": 17,
   "id": "f5bec9b0",
   "metadata": {},
   "outputs": [],
   "source": [
    "image = cv2.imread('Car2.jpeg', cv2.IMREAD_GRAYSCALE)  "
   ]
  },
  {
   "cell_type": "code",
   "execution_count": 18,
   "id": "aaef9755",
   "metadata": {},
   "outputs": [],
   "source": [
    "cv2.imshow('Image', image)\n",
    "cv2.waitKey(0)\n",
    "cv2.destroyAllWindows()"
   ]
  },
  {
   "cell_type": "markdown",
   "id": "3c0d38d0",
   "metadata": {},
   "source": [
    "## C"
   ]
  },
  {
   "cell_type": "code",
   "execution_count": 19,
   "id": "71a025fb",
   "metadata": {},
   "outputs": [],
   "source": [
    "edges = cv2.Canny(image, threshold1=100, threshold2=200)"
   ]
  },
  {
   "cell_type": "code",
   "execution_count": 20,
   "id": "3504891d",
   "metadata": {},
   "outputs": [],
   "source": [
    "cv2.imshow('Edges', edges)\n",
    "cv2.waitKey(0)\n",
    "cv2.destroyAllWindows()"
   ]
  },
  {
   "cell_type": "markdown",
   "id": "d94a035e",
   "metadata": {},
   "source": [
    "## D"
   ]
  },
  {
   "cell_type": "code",
   "execution_count": 21,
   "id": "303e3075",
   "metadata": {},
   "outputs": [],
   "source": [
    "lines = cv2.HoughLinesP(edges, 1, np.pi/180, threshold=100, minLineLength=100, maxLineGap=10)"
   ]
  },
  {
   "cell_type": "code",
   "execution_count": 22,
   "id": "934e0414",
   "metadata": {},
   "outputs": [],
   "source": [
    "total_angle = 0.0\n",
    "for line in lines:\n",
    "    x1, y1, x2, y2 = line[0]\n",
    "    angle = np.arctan2(y2 - y1, x2 - x1) * 180 / np.pi\n",
    "    total_angle += angle\n",
    "average_angle = total_angle / len(lines)"
   ]
  },
  {
   "cell_type": "code",
   "execution_count": 23,
   "id": "cf97d7e3",
   "metadata": {},
   "outputs": [],
   "source": [
    "rows, cols = image.shape\n",
    "rotation_matrix = cv2.getRotationMatrix2D((cols / 2, rows / 2), -average_angle, 1)\n",
    "corrected_image = cv2.warpAffine(image, rotation_matrix, (cols, rows))"
   ]
  },
  {
   "cell_type": "code",
   "execution_count": null,
   "id": "5e21adc5",
   "metadata": {},
   "outputs": [],
   "source": [
    "cv2.imshow('Corrected Image', corrected_image)\n",
    "cv2.waitKey(0)\n",
    "cv2.destroyAllWindows()"
   ]
  },
  {
   "cell_type": "markdown",
   "id": "72d2f83e",
   "metadata": {},
   "source": [
    "## E"
   ]
  },
  {
   "cell_type": "code",
   "execution_count": 71,
   "id": "881100e9",
   "metadata": {},
   "outputs": [
    {
     "name": "stdout",
     "output_type": "stream",
     "text": [
      "50463\n"
     ]
    }
   ],
   "source": [
    "memory_size_bytes = image.nbytes\n",
    "print(memory_size_bytes)"
   ]
  },
  {
   "cell_type": "code",
   "execution_count": 78,
   "id": "ab39fe1d",
   "metadata": {},
   "outputs": [
    {
     "data": {
      "text/plain": [
       "True"
      ]
     },
     "execution_count": 78,
     "metadata": {},
     "output_type": "execute_result"
    }
   ],
   "source": [
    "compressed_image_path = 'compressed_image.png'\n",
    "cv2.imwrite(compressed_image_path, image, [cv2.IMWRITE_PNG_COMPRESSION, 9])"
   ]
  },
  {
   "cell_type": "code",
   "execution_count": 83,
   "id": "bdacc572",
   "metadata": {},
   "outputs": [],
   "source": [
    "compressed_image = cv2.imread('compressed_image.png', cv2.IMREAD_GRAYSCALE)  "
   ]
  },
  {
   "cell_type": "code",
   "execution_count": 84,
   "id": "b2b096d4",
   "metadata": {},
   "outputs": [],
   "source": [
    "cv2.imshow('Compressed Image', compressed_image)\n",
    "cv2.waitKey(0)\n",
    "cv2.destroyAllWindows()"
   ]
  },
  {
   "cell_type": "code",
   "execution_count": 85,
   "id": "79062337",
   "metadata": {},
   "outputs": [
    {
     "name": "stdout",
     "output_type": "stream",
     "text": [
      "50463\n"
     ]
    }
   ],
   "source": [
    "memory_size_bytes2 = compressed_image.nbytes\n",
    "print(memory_size_bytes2)"
   ]
  },
  {
   "cell_type": "code",
   "execution_count": null,
   "id": "08e1bf79",
   "metadata": {},
   "outputs": [],
   "source": [
    "print(46054)"
   ]
  }
 ],
 "metadata": {
  "kernelspec": {
   "display_name": "Python 3 (ipykernel)",
   "language": "python",
   "name": "python3"
  },
  "language_info": {
   "codemirror_mode": {
    "name": "ipython",
    "version": 3
   },
   "file_extension": ".py",
   "mimetype": "text/x-python",
   "name": "python",
   "nbconvert_exporter": "python",
   "pygments_lexer": "ipython3",
   "version": "3.9.13"
  }
 },
 "nbformat": 4,
 "nbformat_minor": 5
}
