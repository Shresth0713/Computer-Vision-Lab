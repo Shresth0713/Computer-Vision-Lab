{
 "cells": [
  {
   "cell_type": "markdown",
   "id": "8a61a8b9",
   "metadata": {},
   "source": [
    "# CV Lab 12 \n",
    "# Shresht Mishra\n",
    "# 211020450"
   ]
  },
  {
   "cell_type": "code",
   "execution_count": 31,
   "id": "f7d68165",
   "metadata": {},
   "outputs": [],
   "source": [
    "import cv2\n",
    "import numpy as np"
   ]
  },
  {
   "cell_type": "code",
   "execution_count": 39,
   "id": "8bbe9d6d",
   "metadata": {},
   "outputs": [],
   "source": [
    "def image_matching(image1, video2):\n",
    "    img1 = cv2.imread(image1)\n",
    "    cap = cv2.VideoCapture(video2)\n",
    "    detector = cv2.SIFT_create()\n",
    "    bf = cv2.BFMatcher()\n",
    "    kp1, des1 = detector.detectAndCompute(img1, None)\n",
    "    x = 0\n",
    "    frame_number = 0  # Initialize frame number\n",
    "    threshold = 30  # Set a matching threshold\n",
    "    best_frame = -1\n",
    "    while True:\n",
    "        ret, frame = cap.read()\n",
    "        if not ret:\n",
    "            break\n",
    "\n",
    "        kp2, des2 = detector.detectAndCompute(frame, None)\n",
    "        matches = bf.knnMatch(des1, des2, k=2)\n",
    "\n",
    "        good_matches = []\n",
    "        for m, n in matches:\n",
    "            if m.distance < 0.75 * n.distance:\n",
    "                good_matches.append(m)\n",
    "\n",
    "                    \n",
    "\n",
    "        if len(good_matches) > threshold:\n",
    "            x+=1\n",
    "            break\n",
    "\n",
    "        frame_number += 1\n",
    "    if(x>0):\n",
    "        time_in_seconds = frame_number / cap.get(cv2.CAP_PROP_FPS)\n",
    "        print(f\"{image1} matches frame at {time_in_seconds} seconds in {video2}\")\n",
    "    else:\n",
    "        print(f\"{image1} does not match from {video2}\")\n",
    "    cap.release()"
   ]
  },
  {
   "cell_type": "code",
   "execution_count": 44,
   "id": "28765734",
   "metadata": {},
   "outputs": [
    {
     "name": "stdout",
     "output_type": "stream",
     "text": [
      "D:/CV/Lab 12/image.png matches frame at 3.8 seconds in D:/CV/Lab 12/video.mp4\n",
      "D:/CV/Lab 12/image.png matches frame at 3.8 seconds in D:/CV/Lab 12/video.mp4\n",
      "D:/CV/Lab 12/image2.png does not match from D:/CV/Lab 12/video.mp4\n",
      "D:/CV/Lab 12/image2.png does not match from D:/CV/Lab 12/video.mp4\n"
     ]
    }
   ],
   "source": [
    "image1_path = \"D:/CV/Lab 12/image.png\"\n",
    "video1_path = \"D:/CV/Lab 12/video.mp4\"\n",
    "image2_path = \"D:/CV/Lab 12/image2.png\"\n",
    "video2_path = \"D:/CV/Lab 12/video.mp4\"\n",
    "image_matching(image1_path, video1_path)\n",
    "image_matching(image1_path, video2_path)\n",
    "image_matching(image2_path, video1_path)\n",
    "image_matching(image2_path, video2_path)"
   ]
  },
  {
   "cell_type": "code",
   "execution_count": null,
   "id": "96774f6d",
   "metadata": {},
   "outputs": [],
   "source": []
  }
 ],
 "metadata": {
  "kernelspec": {
   "display_name": "tf_gpu",
   "language": "python",
   "name": "myenv"
  },
  "language_info": {
   "codemirror_mode": {
    "name": "ipython",
    "version": 3
   },
   "file_extension": ".py",
   "mimetype": "text/x-python",
   "name": "python",
   "nbconvert_exporter": "python",
   "pygments_lexer": "ipython3",
   "version": "3.9.18"
  }
 },
 "nbformat": 4,
 "nbformat_minor": 5
}
